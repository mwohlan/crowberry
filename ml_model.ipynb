{
 "cells": [
  {
   "cell_type": "markdown",
   "metadata": {},
   "source": [
    "##  Imports and initialze dataframe"
   ]
  },
  {
   "cell_type": "code",
   "execution_count": 2,
   "metadata": {},
   "outputs": [
    {
     "data": {
      "text/plain": [
       "Unnamed: 0                                 int64\n",
       "INDEX                                    float64\n",
       "TOTAL FUNDING USD                        float64\n",
       "FUNDING FROM EARLY STAGES                float64\n",
       "FUNDING FROM EARLY STAGES > 2M             int64\n",
       "FUNDING UP UNTIL VALUATION DATE          float64\n",
       "AVG REVENUE                              float64\n",
       "AVG REVENUE GROWTH                       float64\n",
       "AVG EMPLOYEE GROWTH                      float64\n",
       "VALUATION TO FUNDING RATIO               float64\n",
       "IS_MARKETING_INDUSTRY                      int64\n",
       "IS_HEALTH_INDUSTRY                         int64\n",
       "IS_ENTERPRISE SOFTWARE_INDUSTRY            int64\n",
       "IS_FINTECH_INDUSTRY                        int64\n",
       "IS_ENERGY_INDUSTRY                         int64\n",
       "IS_TRANSPORTATION_INDUSTRY                 int64\n",
       "IS_MEDIA_INDUSTRY                          int64\n",
       "REVENUE MODEL MARKETPLACE & ECOMMERCE      int64\n",
       "REVENUE MODEL MANUFACTURING                int64\n",
       "REVENUE MODEL SAAS                         int64\n",
       "HQ HELSINKI                                int64\n",
       "HQ COPENHAGEN                              int64\n",
       "HQ STOCKHOLM                               int64\n",
       "HQ OSLO                                    int64\n",
       "dtype: object"
      ]
     },
     "execution_count": 2,
     "metadata": {},
     "output_type": "execute_result"
    }
   ],
   "source": [
    "import numpy as np\n",
    "from numpy import interp\n",
    "\n",
    "import pandas as pd\n",
    "import matplotlib.pyplot as plt\n",
    "from collections import Counter\n",
    "\n",
    "from sklearn.preprocessing import LabelEncoder\n",
    "from sklearn.model_selection import train_test_split\n",
    "from sklearn.ensemble import RandomForestClassifier\n",
    "from sklearn.linear_model import LogisticRegression\n",
    "from sklearn import tree\n",
    "from sklearn.model_selection import cross_val_score\n",
    "from sklearn.neighbors import KNeighborsClassifier\n",
    "from pprint import pprint\n",
    "from sklearn.utils import resample\n",
    "from sklearn.metrics import confusion_matrix\n",
    "from sklearn.metrics import roc_auc_score, roc_curve, auc\n",
    "\n",
    "\n",
    "df = pd.read_csv(\"data_for_training.csv\")\n",
    "\n",
    "\n",
    "df.dtypes\n"
   ]
  }
 ],
 "metadata": {
  "interpreter": {
   "hash": "99186a0bece62e70d2067b69bb0e6d5665a35670e7aceacfda778335f90225f9"
  },
  "kernelspec": {
   "display_name": "Python 3.9.7 ('jupyter-pandas-cmPRGyoq-py3.9')",
   "language": "python",
   "name": "python3"
  },
  "language_info": {
   "codemirror_mode": {
    "name": "ipython",
    "version": 3
   },
   "file_extension": ".py",
   "mimetype": "text/x-python",
   "name": "python",
   "nbconvert_exporter": "python",
   "pygments_lexer": "ipython3",
   "version": "3.9.7"
  },
  "orig_nbformat": 4
 },
 "nbformat": 4,
 "nbformat_minor": 2
}
