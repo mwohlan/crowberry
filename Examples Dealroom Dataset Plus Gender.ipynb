{
 "cells": [
  {
   "cell_type": "code",
   "execution_count": 1,
   "metadata": {},
   "outputs": [],
   "source": [
    "import numpy as np\n",
    "import pandas as pd\n",
    "# import  jupyter_pandas.helper as helper\n"
   ]
  },
  {
   "cell_type": "code",
   "execution_count": 2,
   "metadata": {},
   "outputs": [],
   "source": [
    "pd.set_option('display.max_columns',None)\n",
    "df = pd.read_excel(\"Data Scientist - Project.xlsx\",header=0)"
   ]
  },
  {
   "cell_type": "markdown",
   "id": "9b059c81",
   "metadata": {},
   "source": [
    "### ADD INDEX COLUMN\n"
   ]
  },
  {
   "cell_type": "code",
   "execution_count": 3,
   "id": "de75b3b5",
   "metadata": {},
   "outputs": [],
   "source": [
    "for index,name in enumerate(df[\"NAME\"]):\n",
    "    df.loc[index,'INDEX'] = index\n",
    "   "
   ]
  },
  {
   "cell_type": "markdown",
   "metadata": {},
   "source": [
    " Only show the rows where the region is not europe"
   ]
  },
  {
   "cell_type": "code",
   "execution_count": 4,
   "metadata": {},
   "outputs": [
    {
     "data": {
      "text/plain": [
       "12             Africa\n",
       "241              Asia\n",
       "250              Asia\n",
       "325     North America\n",
       "368              Asia\n",
       "            ...      \n",
       "6699    North America\n",
       "7174    North America\n",
       "7636    North America\n",
       "7804    North America\n",
       "8701             Asia\n",
       "Name: HQ REGION, Length: 100, dtype: object"
      ]
     },
     "execution_count": 4,
     "metadata": {},
     "output_type": "execute_result"
    }
   ],
   "source": [
    "not_europe = df['HQ REGION'] != 'Europe'\n",
    "df[not_europe]['HQ REGION']"
   ]
  },
  {
   "cell_type": "markdown",
   "metadata": {},
   "source": [
    "Show unique values of the HQ REGION column"
   ]
  },
  {
   "cell_type": "code",
   "execution_count": 5,
   "metadata": {
    "tags": []
   },
   "outputs": [
    {
     "data": {
      "text/plain": [
       "array(['Europe', 'Africa', 'Asia', 'North America', 'South America',\n",
       "       'Oceania'], dtype=object)"
      ]
     },
     "execution_count": 5,
     "metadata": {},
     "output_type": "execute_result"
    }
   ],
   "source": [
    "df['HQ REGION'].unique()"
   ]
  },
  {
   "cell_type": "markdown",
   "metadata": {},
   "source": [
    " Show datatypes for each column"
   ]
  },
  {
   "cell_type": "code",
   "execution_count": 6,
   "metadata": {
    "scrolled": true,
    "tags": []
   },
   "outputs": [
    {
     "data": {
      "text/plain": [
       "NAME                                                  object\n",
       "PROFILE URL                                           object\n",
       "WEBSITE                                               object\n",
       "HQ REGION                                             object\n",
       "HQ COUNTRY                                            object\n",
       "HQ CITY                                               object\n",
       "INVESTORS                                             object\n",
       "EACH INVESTOR TYPES                                   object\n",
       "LEAD INVESTORS                                       float64\n",
       "TOTAL FUNDING (EUR M)                                float64\n",
       "TOTAL FUNDING (USD M)                                float64\n",
       "LAST ROUND                                            object\n",
       "LAST FUNDING                                         float64\n",
       "LAST FUNDING DATE                                     object\n",
       "FIRST FUNDING DATE                                    object\n",
       "SEED YEAR                                            float64\n",
       "REVENUE MODEL                                         object\n",
       "INDUSTRIES                                            object\n",
       "GROWTH STAGE                                          object\n",
       "EMPLOYEES                                             object\n",
       "EMPLOYEES (2016,2017,2018,2019,2020,2021,2022)        object\n",
       "REVENUE (2016,2017,2018,2019,2020,2021,2022,2023)     object\n",
       "VALUATION                                             object\n",
       "VALUATION (EUR)                                       object\n",
       "VALUATION DATE                                        object\n",
       "SW TRAFFIC 6 MONTHS                                  float64\n",
       "SW TRAFFIC 12 MONTHS                                 float64\n",
       "EACH ROUND TYPE                                       object\n",
       "EACH ROUND AMOUNT                                     object\n",
       "EACH ROUND CURRENCY                                   object\n",
       "EACH ROUND DATE                                       object\n",
       "EACH ROUND INVESTORS                                  object\n",
       "FOUNDERS                                              object\n",
       "FOUNDERS STATUSES                                     object\n",
       "FOUNDERS GENDERS                                      object\n",
       "FOUNDERS IS SERIAL                                    object\n",
       "FOUNDERS BACKGROUNDS                                  object\n",
       "FOUNDERS LINKEDIN                                     object\n",
       "APP DOWNLOADS LATEST (IOS)                           float64\n",
       "APP DOWNLOADS 6 MONTHS (IOS)                         float64\n",
       "APP DOWNLOADS 12 MONTHS (IOS)                        float64\n",
       "APP DOWNLOADS LATEST (ANDROID)                       float64\n",
       "APP DOWNLOADS 6 MONTHS (ANDROID)                     float64\n",
       "APP DOWNLOADS 12 MONTHS (ANDROID)                    float64\n",
       "TECH STACK DATA (BY PREDICTLEADS)                     object\n",
       "INDEX                                                float64\n",
       "dtype: object"
      ]
     },
     "execution_count": 6,
     "metadata": {},
     "output_type": "execute_result"
    }
   ],
   "source": [
    "df.dtypes"
   ]
  },
  {
   "cell_type": "markdown",
   "metadata": {},
   "source": [
    "Convert all __Each Round Amount__ cells to a list of numbers and add the result as a new column __Each Round Amount as List__ to the dataframe"
   ]
  },
  {
   "cell_type": "code",
   "execution_count": 7,
   "metadata": {
    "tags": []
   },
   "outputs": [
    {
     "data": {
      "text/plain": [
       "0                                  [0, 0, 0]\n",
       "1                              [0, 1.7, 0.6]\n",
       "2       [11.5, 0, 0.9, 2.3, 0.05, 2.5, 0.05]\n",
       "3                                     [0, 0]\n",
       "4                                        [0]\n",
       "                        ...                 \n",
       "8889                                     [0]\n",
       "8890                                     [0]\n",
       "8891                                     [0]\n",
       "8892                                     [0]\n",
       "8893                                     [0]\n",
       "Name: EACH ROUND AMOUNT AS LIST, Length: 8894, dtype: object"
      ]
     },
     "execution_count": 7,
     "metadata": {},
     "output_type": "execute_result"
    }
   ],
   "source": [
    "#function that takes in a value from a cell (string) and converts it to a list of numbers\n",
    "def convert_to_list_of_numbers(cellValue):\n",
    "        cellValueAsList =  cellValue.split(';')\n",
    "        return [float(x) if x != 'n/a' else 0 for x in cellValueAsList]\n",
    "# Convert all cells of the \"each round amount\" column to a list with the function above\n",
    "# if there is something to convert, otherwise create a list with just a 0 in it for that cell\n",
    "df['EACH ROUND AMOUNT AS LIST'] = [convert_to_list_of_numbers(cell) if isinstance(cell, str) else [0] for cell in df['EACH ROUND AMOUNT']]\n",
    "df['EACH ROUND AMOUNT AS LIST']\n"
   ]
  },
  {
   "cell_type": "markdown",
   "metadata": {},
   "source": [
    "Using the new column __Each Round Amount as List__ to create yet another column __Each Round Amount Sum__"
   ]
  },
  {
   "cell_type": "code",
   "execution_count": 8,
   "metadata": {},
   "outputs": [],
   "source": [
    "df['EACH ROUND AMOUNT SUM'] = [sum(cell)for cell in df['EACH ROUND AMOUNT AS LIST']]"
   ]
  },
  {
   "cell_type": "markdown",
   "metadata": {},
   "source": [
    "By replacing non existing values with 0 we run into issues when using functions like mean() on a column"
   ]
  },
  {
   "cell_type": "code",
   "execution_count": 9,
   "metadata": {},
   "outputs": [
    {
     "data": {
      "text/plain": [
       "0        0.0\n",
       "1        2.3\n",
       "2       17.3\n",
       "3        0.0\n",
       "4        0.0\n",
       "        ... \n",
       "8889     0.0\n",
       "8890     0.0\n",
       "8891     0.0\n",
       "8892     0.0\n",
       "8893     0.0\n",
       "Name: EACH ROUND AMOUNT SUM, Length: 8894, dtype: float64"
      ]
     },
     "execution_count": 9,
     "metadata": {},
     "output_type": "execute_result"
    }
   ],
   "source": [
    "df['EACH ROUND AMOUNT SUM']"
   ]
  },
  {
   "cell_type": "markdown",
   "metadata": {},
   "source": [
    "We get a value but its **not correct**. If we want the correct mean we can replace all zeros with null and calculate\n",
    "the mean again and we get the **correct** result because the mean function has a default parameter of *skipna=True*"
   ]
  },
  {
   "cell_type": "code",
   "execution_count": 10,
   "metadata": {},
   "outputs": [
    {
     "data": {
      "text/plain": [
       "19.743192612137204"
      ]
     },
     "execution_count": 10,
     "metadata": {},
     "output_type": "execute_result"
    }
   ],
   "source": [
    "\n",
    "df['EACH ROUND AMOUNT SUM NULL'] = [None if cell == 0 else cell for cell in df['EACH ROUND AMOUNT SUM']]\n",
    "\n",
    "\n",
    "df['EACH ROUND AMOUNT SUM NULL'].mean()\n"
   ]
  },
  {
   "cell_type": "markdown",
   "metadata": {},
   "source": [
    "Now we try to convert the **LAST FUNDING DATE** from a String to Date dataobject, so we can filter and compare dates correctly. First we look at what we have:"
   ]
  },
  {
   "cell_type": "code",
   "execution_count": 11,
   "metadata": {},
   "outputs": [
    {
     "data": {
      "text/plain": [
       "array(['jan/2022', nan, 'dec/2021', 'nov/2021', 'oct/2021', 'sep/2021',\n",
       "       'aug/2021', 'jul/2021', 'jun/2021', 'may/2021', 'apr/2021',\n",
       "       'mar/2021', 'feb/2021', 'jan/2021', 'dec/2020', 'nov/2020',\n",
       "       'oct/2020', 'sep/2020', 'aug/2020', 'jul/2020', 'jun/2020',\n",
       "       'may/2020', 'apr/2020', 'mar/2020', 'feb/2020', 'jan/2020',\n",
       "       'dec/2019', 2020, 'nov/2019', 'oct/2019', 'sep/2019', 'aug/2019',\n",
       "       'jul/2019', 'jun/2019', 'may/2019', 'apr/2019', 'mar/2019',\n",
       "       'feb/2019', 'jan/2019', 'dec/2018', 2019, 'nov/2018', 'oct/2018',\n",
       "       'sep/2018', 'aug/2018', 'jul/2018', 'jun/2018', 'may/2018',\n",
       "       'apr/2018', 'mar/2018', 'feb/2018', 'jan/2018', 'dec/2017', 2018,\n",
       "       'nov/2017', 'oct/2017', 'sep/2017', 'aug/2017', 'jul/2017',\n",
       "       'jun/2017', 'may/2017', 'apr/2017', 'mar/2017', 'feb/2017',\n",
       "       'jan/2017', 'dec/2016', 2017, 'nov/2016', 'oct/2016', 'sep/2016',\n",
       "       'aug/2016', 'jul/2016', 'jun/2016', 'may/2016', 'apr/2016',\n",
       "       'mar/2016', 'feb/2016', 'jan/2016', 2016, 'dec/2015', 'nov/2015',\n",
       "       'oct/2015', 'sep/2015', 'aug/2015', 'jul/2015', 'jun/2015',\n",
       "       'may/2015', 'apr/2015', 'mar/2015', 'feb/2015', 'jan/2015',\n",
       "       'dec/2014', 'nov/2014', 'oct/2014', 'sep/2014', 'aug/2014',\n",
       "       'jul/2014', 'jun/2014', 'may/2014', 'apr/2014', 'mar/2014',\n",
       "       'feb/2014', 'jan/2014', 'dec/2013', 2014, 'nov/2013', 'oct/2013',\n",
       "       'sep/2013', 'aug/2013', 'jul/2013', 'jun/2013', 'may/2013',\n",
       "       'apr/2013', 'mar/2013', 'feb/2013', 'jan/2013', 'dec/2012', 2013,\n",
       "       'nov/2012', 'oct/2012', 'sep/2012', 'aug/2012', 'jul/2012',\n",
       "       'jun/2012', 'may/2012', 'apr/2012', 'mar/2012', 'feb/2012',\n",
       "       'jan/2012', 'dec/2011', 'nov/2011', 'oct/2011', 'sep/2011',\n",
       "       'aug/2011', 'jul/2011', 'jun/2011', 'may/2011', 'apr/2011',\n",
       "       'mar/2011', 'feb/2011', 'jan/2011', 'dec/2010', 'nov/2010',\n",
       "       'oct/2010', 'sep/2010', 'aug/2010', 'jul/2010', 'jun/2010',\n",
       "       'may/2010', 'apr/2010', 'mar/2010', 'feb/2010', 'jan/2010',\n",
       "       'dec/2009', 'nov/2009', 'oct/2009', 'sep/2009', 'aug/2009',\n",
       "       'jul/2009', 'jun/2009', 'apr/2009', 'mar/2009', 'feb/2009',\n",
       "       'jan/2009', 'dec/2008', 'nov/2008', 'oct/2008', 'sep/2008',\n",
       "       'aug/2008', 'jul/2008', 'jun/2008', 'may/2008', 'apr/2008',\n",
       "       'mar/2008', 'feb/2008', 'jan/2008', 'dec/2007', 'nov/2007',\n",
       "       'oct/2007', 'sep/2007', 'aug/2007', 'jul/2007', 'jun/2007',\n",
       "       'may/2007', 'apr/2007', 'mar/2007', 'jan/2007', 'dec/2006',\n",
       "       'nov/2006', 'oct/2006', 'sep/2006', 'aug/2006', 'jul/2006',\n",
       "       'jun/2006', 'may/2006', 'apr/2006', 'mar/2006', 'feb/2006',\n",
       "       'jan/2006', 'nov/2005', 'oct/2005', 'sep/2005', 'aug/2005',\n",
       "       'jul/2005', 'jun/2005', 'may/2005', 'apr/2005', 'mar/2005',\n",
       "       'feb/2005', 'jan/2005', 'dec/2004', 'nov/2004', 'oct/2004',\n",
       "       'aug/2004', 'jul/2004', 'may/2004', 'apr/2004', 'mar/2004',\n",
       "       'feb/2004', 'jan/2004', 2004, 'dec/2003', 'nov/2003', 'oct/2003',\n",
       "       'jun/2003', 'apr/2003', 'jan/2003', 'nov/2002', 'oct/2002',\n",
       "       'aug/2002', 'jun/2002', 'may/2002', 'feb/2002', 'jan/2002',\n",
       "       'oct/2001', 'aug/2001', 'nov/2000', 'oct/2000', 'jul/2000',\n",
       "       'jun/2000', 'may/2000', 'mar/2000', 'feb/2000', 'jan/2000',\n",
       "       'dec/1999', 'oct/1999', 'jul/1999', 'jan/1998', 'jan/1997',\n",
       "       'oct/1996', 'feb/1994', 'jan/1993'], dtype=object)"
      ]
     },
     "execution_count": 11,
     "metadata": {},
     "output_type": "execute_result"
    }
   ],
   "source": [
    "df[\"LAST FUNDING DATE\"].unique()\n",
    "\n",
    "\n",
    "\n",
    "\n"
   ]
  },
  {
   "cell_type": "markdown",
   "metadata": {},
   "source": [
    "We have **NaN**, **Numbers** like 2010 and **Strings** with a correct format like nov/2011. Lets clear this up by setting NaN to a \"jan/1970\" String and the numbers to \"jan/number\""
   ]
  },
  {
   "cell_type": "code",
   "execution_count": 12,
   "metadata": {},
   "outputs": [
    {
     "data": {
      "text/plain": [
       "0      2022-01-01\n",
       "1      2022-01-01\n",
       "2      2022-01-01\n",
       "3      2022-01-01\n",
       "4             NaT\n",
       "          ...    \n",
       "8889          NaT\n",
       "8890          NaT\n",
       "8891          NaT\n",
       "8892          NaT\n",
       "8893          NaT\n",
       "Name: LAST FUNDING DATE, Length: 8894, dtype: datetime64[ns]"
      ]
     },
     "execution_count": 12,
     "metadata": {},
     "output_type": "execute_result"
    }
   ],
   "source": [
    "df['LAST FUNDING DATE'] = df['LAST FUNDING DATE'].apply(lambda cell: cell if isinstance(cell, str)\n",
    "                                                        else f'jan/{cell}' if cell > 0\n",
    "                                                        else None)\n",
    "\n",
    "df['LAST FUNDING DATE'] = pd.to_datetime(df['LAST FUNDING DATE'])\n",
    "\n",
    "df['LAST FUNDING DATE']\n",
    "\n",
    "\n",
    "\n"
   ]
  },
  {
   "cell_type": "markdown",
   "metadata": {},
   "source": []
  },
  {
   "cell_type": "markdown",
   "metadata": {},
   "source": [
    "Now we can filter the column for Dates like this:"
   ]
  },
  {
   "cell_type": "code",
   "execution_count": 13,
   "metadata": {},
   "outputs": [
    {
     "data": {
      "text/plain": [
       "0      2022-01-01\n",
       "1      2022-01-01\n",
       "2      2022-01-01\n",
       "3      2022-01-01\n",
       "4             NaT\n",
       "          ...    \n",
       "8889          NaT\n",
       "8890          NaT\n",
       "8891          NaT\n",
       "8892          NaT\n",
       "8893          NaT\n",
       "Name: LAST FUNDING DATE, Length: 5496, dtype: datetime64[ns]"
      ]
     },
     "execution_count": 13,
     "metadata": {},
     "output_type": "execute_result"
    }
   ],
   "source": [
    "after_2018 = df['LAST FUNDING DATE'] > pd.Timestamp(2018,1,1) \n",
    "no_date_available = df['LAST FUNDING DATE'].apply(lambda row: True if str(row) == 'NaT' else False)\n",
    "df[no_date_available | after_2018]['LAST FUNDING DATE']\n"
   ]
  },
  {
   "cell_type": "markdown",
   "metadata": {},
   "source": [
    "With datetime datatype its easy to handle Dates --> [Pandas Timestamp Reference](https://pandas.pydata.org/docs/reference/api/pandas.Timestamp.html)"
   ]
  },
  {
   "cell_type": "code",
   "execution_count": 14,
   "metadata": {},
   "outputs": [
    {
     "data": {
      "text/plain": [
       "2022"
      ]
     },
     "execution_count": 14,
     "metadata": {},
     "output_type": "execute_result"
    }
   ],
   "source": [
    "df[after_2018]['LAST FUNDING DATE'][0].year\n"
   ]
  },
  {
   "cell_type": "markdown",
   "metadata": {},
   "source": [
    "Create a boolean column for every Industry in the Dataset and set the appropiate columns to True for every StartUp"
   ]
  },
  {
   "cell_type": "code",
   "execution_count": 15,
   "metadata": {},
   "outputs": [
    {
     "data": {
      "text/plain": [
       "0       False\n",
       "1       False\n",
       "2        True\n",
       "3       False\n",
       "4       False\n",
       "        ...  \n",
       "8889    False\n",
       "8890    False\n",
       "8891    False\n",
       "8892    False\n",
       "8893    False\n",
       "Name: IS_ROBOTICS_INDUSTRY, Length: 8894, dtype: bool"
      ]
     },
     "execution_count": 15,
     "metadata": {},
     "output_type": "execute_result"
    }
   ],
   "source": [
    "#Transformation, damit man Industries später besser algorithmisch nutzen kann (one-hot-mapping)\n",
    "industries = {}\n",
    "#alle unique industries der Tabelle nehmen und in eine Map/Dictonary einfügen\n",
    "for row in df['INDUSTRIES']:\n",
    "   if isinstance(row,str):\n",
    "       industries_of_current_row = row.split(\";\")\n",
    "       for industry in industries_of_current_row:\n",
    "           industries[industry.upper()] = industry.upper()\n",
    "#neue Spalte im df anlegen für jede industry und erstmal mit false initialisieren\n",
    "# im Format IS_VARIABLE_INDUSTRY\n",
    "for key in industries:\n",
    "    df[f'IS_{key}_INDUSTRY'] = False\n",
    "    \n",
    "\n",
    " # Wir iterieren wieder durch die Industry Spalte, brauchen aber jetzt zusätzlich den aktuellen Index (enumerate)\n",
    " # und setzen für jede die passende IS_VARIABLE_INDUSTRY Spalte auf true               \n",
    "for rowindex,row in enumerate(df['INDUSTRIES']):\n",
    "    if isinstance(row, str):\n",
    "       industries_of_current_row = row.split(\";\")\n",
    "       for industry in industries_of_current_row:\n",
    "           df.loc[rowindex,f'IS_{industry.upper()}_INDUSTRY'] = True\n",
    "          \n",
    "\n",
    "df['IS_ROBOTICS_INDUSTRY']      "
   ]
  },
  {
   "cell_type": "markdown",
   "metadata": {},
   "source": [
    "Create Average Valuation Column"
   ]
  },
  {
   "cell_type": "code",
   "execution_count": 16,
   "metadata": {},
   "outputs": [
    {
     "data": {
      "text/plain": [
       "0        NaN\n",
       "1        8.5\n",
       "2       12.5\n",
       "3        NaN\n",
       "4        NaN\n",
       "        ... \n",
       "8889     NaN\n",
       "8890     NaN\n",
       "8891     NaN\n",
       "8892     NaN\n",
       "8893     NaN\n",
       "Name: VALUATION AVG, Length: 8894, dtype: float64"
      ]
     },
     "execution_count": 16,
     "metadata": {},
     "output_type": "execute_result"
    }
   ],
   "source": [
    "#Function to set average value from valuation interval (min + max)/2\n",
    "def avg_valuation(cellValue):\n",
    "    val = cellValue.split('-')\n",
    "    return ((float(val[1]) + float(val[0]))/2)/10**6\n",
    "\n",
    "\n",
    "#Parse both valuation columns and create maximum valuation column\n",
    "valuationColumns = ['VALUATION', 'VALUATION (EUR)']\n",
    "for column in valuationColumns:\n",
    "    df.loc[:, column + ' AVG'] = df.loc[:, column]\n",
    "    df.loc[:, column + ' AVG'] = [avg_valuation(cell) if isinstance(cell, str)\n",
    "                                           else cell for cell in df['VALUATION AVG']]\n",
    "df[\"VALUATION AVG\"]"
   ]
  },
  {
   "cell_type": "markdown",
   "metadata": {},
   "source": [
    "Creating a new Object from combining the EACH ROUND TYPE, AMOUNT, DATE, INVESTORS Column. This will help to create new columns later on"
   ]
  },
  {
   "cell_type": "code",
   "execution_count": 17,
   "metadata": {},
   "outputs": [],
   "source": [
    "import requests\n",
    "currencyMap = {}\n",
    "# Get all distinct Currencies in the Dataset and set them with a default value\n",
    "for row in df['EACH ROUND CURRENCY']:\n",
    "    if isinstance(row, str):\n",
    "        for currency in row.split(';'):\n",
    "            if(currency != 'n/a'):\n",
    "                currencyMap[currency] = 0.0\n",
    "            else:\n",
    "                currencyMap[currency] = 1\n",
    "\n",
    "#Get Currency Data from API for all currencies in the currency Map\n",
    "currency_request = requests.get(\n",
    "    f'https://api.currencyscoop.com/v1/latest?api_key=60e7bc56b004cb3a965554c6a1b50c3d&base=usd&symbols={\",\".join(currencyMap.keys())}', headers={'User-agent': 'Mozilla/5.0'})\n",
    "\n",
    "#Set the correct values in the currency Map\n",
    "for currency, value in currency_request.json()['response']['rates'].items():\n",
    "    currencyMap[currency] = value\n",
    "each_round_data = []\n",
    "\n",
    "#Iterate the each round Amount column and use the row index for cross-lookups in other columns\n",
    "for row_index, row in enumerate(df['EACH ROUND AMOUNT']):\n",
    "    #funding object which will be enriched and then added to each_round_data after a row has been processed\n",
    "    funding_object = {\n",
    "        \"EACH ROUND AMOUNT\": [],\n",
    "        \"EACH ROUND DATE\": [],\n",
    "        \"EACH ROUND INVESTORS\": [],\n",
    "        \"EACH ROUND TYPE\": []\n",
    "    }\n",
    "    #if there are multiple amounts: split the list, get the value, divide the value by the currency rate, extract the dates and add them to the funding object\n",
    "    if isinstance(row, str):\n",
    "        for index, amount in enumerate(row.split(\";\")):\n",
    "            if(amount != 'n/a'):\n",
    "                funding_object['EACH ROUND AMOUNT'].insert(0,float(amount) / currencyMap[df.loc[row_index, 'EACH ROUND CURRENCY'].split(\";\")[index]])\n",
    "            else:\n",
    "                funding_object['EACH ROUND AMOUNT'].insert(0,0)\n",
    "            funding_object['EACH ROUND TYPE'].insert(0, df.loc[row_index, 'EACH ROUND TYPE'].split(\";\")[index])\n",
    "            funding_object['EACH ROUND INVESTORS'].insert(0, df.loc[row_index, 'EACH ROUND INVESTORS'].split(\";\")[index])\n",
    "            funding_object['EACH ROUND DATE'].insert(0, pd.to_datetime(str(df.loc[row_index, 'EACH ROUND DATE'].split(\";\")[index]))) \n",
    "    # if there is just one amount or none, take just that value and do the same as above        \n",
    "    else:\n",
    "        if row > 0:\n",
    "            funding_object['EACH ROUND AMOUNT'].insert(0, row / currencyMap[df.loc[row_index, 'EACH ROUND CURRENCY']])\n",
    "            funding_object['EACH ROUND TYPE'].insert(0, df.loc[row_index, 'EACH ROUND TYPE'])\n",
    "            funding_object['EACH ROUND INVESTORS'].insert(0, df.loc[row_index, 'EACH ROUND INVESTORS'])\n",
    "            funding_object['EACH ROUND DATE'].insert(0, pd.to_datetime(str(df.loc[row_index, 'EACH ROUND DATE'])))\n",
    "    each_round_data.append(funding_object)\n",
    "\n",
    "\n",
    "\n",
    "\n",
    "\n",
    "\n",
    "\n",
    "           "
   ]
  },
  {
   "cell_type": "markdown",
   "metadata": {},
   "source": [
    "Add total funding usd column to the dataframe using the each_round_data object\n"
   ]
  },
  {
   "cell_type": "code",
   "execution_count": 18,
   "metadata": {},
   "outputs": [],
   "source": [
    "   \n",
    "df[\"TOTAL FUNDING USD\"] = [sum(funding[\"EACH ROUND AMOUNT\"]) for funding in each_round_data]\n"
   ]
  },
  {
   "cell_type": "markdown",
   "metadata": {},
   "source": [
    "Add column Funding from seed type using the each_round_data object"
   ]
  },
  {
   "cell_type": "code",
   "execution_count": 19,
   "metadata": {},
   "outputs": [],
   "source": [
    "seed_funding = []\n",
    "\n",
    "for data in each_round_data:\n",
    "    seed_sum = 0\n",
    "    for index, funding_type in enumerate(data[\"EACH ROUND TYPE\"]):\n",
    "        if funding_type == \"SEED\":\n",
    "            seed_sum += data[\"EACH ROUND AMOUNT\"][index]\n",
    "    seed_funding.append(seed_sum)\n",
    "df[\"FUNDING FROM SEED TYPE\"] = seed_funding\n"
   ]
  },
  {
   "cell_type": "markdown",
   "metadata": {},
   "source": [
    "Create FUNDING FROM EARLY STAGES where only valid funding types are taken into account (Svunkis Filter)"
   ]
  },
  {
   "cell_type": "code",
   "execution_count": 20,
   "metadata": {},
   "outputs": [
    {
     "data": {
      "text/plain": [
       "0        0.000000\n",
       "1        2.592244\n",
       "2       17.604950\n",
       "3        0.000000\n",
       "4        0.000000\n",
       "          ...    \n",
       "8889     0.000000\n",
       "8890     0.000000\n",
       "8891     0.000000\n",
       "8892     0.000000\n",
       "8893     0.000000\n",
       "Name: FUNDING FROM EARLY STAGES, Length: 8894, dtype: float64"
      ]
     },
     "execution_count": 20,
     "metadata": {},
     "output_type": "execute_result"
    }
   ],
   "source": [
    "neglected_rounds = set(['ACQUISITION',\n",
    "                         'LATE VC', 'IPO', 'MERGER', 'POST IPO DEBT', 'POST IPO EQUITY', 'GROWTH EQUITY NON VC', 'GROWTH EQUITY VC', 'POST IPO CONVERTIBLE', 'SERIES C', 'SERIES B', 'SERIES D'])\n",
    "\n",
    "\n",
    "filtered_funding = []\n",
    "\n",
    "for data in each_round_data:\n",
    "    seed_sum = 0\n",
    "    for index, funding_type in enumerate(data[\"EACH ROUND TYPE\"]):\n",
    "        if funding_type not in neglected_rounds:\n",
    "            seed_sum += data[\"EACH ROUND AMOUNT\"][index]\n",
    "    filtered_funding.append(seed_sum)\n",
    "df[\"FUNDING FROM EARLY STAGES\"] = filtered_funding\n",
    "\n",
    "\n",
    "df[\"FUNDING FROM EARLY STAGES\"]\n"
   ]
  },
  {
   "cell_type": "markdown",
   "metadata": {},
   "source": [
    "Create Column  Filtered Funding > 2M"
   ]
  },
  {
   "cell_type": "code",
   "execution_count": 21,
   "metadata": {},
   "outputs": [],
   "source": [
    "df[\"FUNDING FROM EARLY STAGES > 2M\"] = df['FUNDING FROM EARLY STAGES'].apply(\n",
    "    lambda row: True if row > 2 else False)\n",
    "\n"
   ]
  },
  {
   "cell_type": "markdown",
   "metadata": {},
   "source": [
    "Now we create a Column Funding up until Valuation Date"
   ]
  },
  {
   "cell_type": "code",
   "execution_count": 22,
   "metadata": {},
   "outputs": [
    {
     "data": {
      "text/plain": [
       "0       0.000000\n",
       "1       2.592244\n",
       "2       2.556353\n",
       "3       0.000000\n",
       "4       0.000000\n",
       "          ...   \n",
       "8889    0.000000\n",
       "8890    0.000000\n",
       "8891    0.000000\n",
       "8892    0.000000\n",
       "8893    0.000000\n",
       "Name: FUNDING UP UNTIL VALUATION DATE, Length: 8894, dtype: float64"
      ]
     },
     "execution_count": 22,
     "metadata": {},
     "output_type": "execute_result"
    }
   ],
   "source": [
    "df[\"VALUATION DATE\"] = df[\"VALUATION DATE\"].apply(\n",
    "    lambda row: pd.to_datetime(str(row)))\n",
    "\n",
    "\n",
    "df[\"VALUATION DATE\"]\n",
    "\n",
    "\n",
    "before_valuation_funding = []\n",
    "\n",
    "for index, data in enumerate(each_round_data):\n",
    "    seed_sum = 0\n",
    "    if str(df.loc[index, \"VALUATION DATE\"]) != \"NaT\":\n",
    "        date_limit = df.loc[index, \"VALUATION DATE\"]\n",
    "\n",
    "        for index, date in enumerate(data[\"EACH ROUND DATE\"]):\n",
    "            if str(date) != \"NaT\" and date <= date_limit:\n",
    "                seed_sum += data[\"EACH ROUND AMOUNT\"][index]\n",
    "\n",
    "    before_valuation_funding.append(seed_sum)\n",
    "\n",
    "df[\"FUNDING UP UNTIL VALUATION DATE\"] = before_valuation_funding\n",
    "\n",
    "\n",
    "df[\"FUNDING UP UNTIL VALUATION DATE\"]\n",
    "\n",
    "# df[\"FUNDING FROM EARLY STAGES\"]\n"
   ]
  },
  {
   "cell_type": "markdown",
   "metadata": {},
   "source": [
    "Next up we create the Column REVENUE PER YEAR where only the years are taken into account with revenue data available and AVG REVENUE GROWTH with the same restrictions and"
   ]
  },
  {
   "cell_type": "code",
   "execution_count": 23,
   "metadata": {},
   "outputs": [
    {
     "data": {
      "text/plain": [
       "0       0.924211\n",
       "1       0.000000\n",
       "2       1.087380\n",
       "3       1.092608\n",
       "4       0.000000\n",
       "          ...   \n",
       "8889    0.000000\n",
       "8890    0.000000\n",
       "8891    0.000000\n",
       "8892    0.000000\n",
       "8893    0.000000\n",
       "Name: AVG EMPLOYEE GROWTH, Length: 8894, dtype: float64"
      ]
     },
     "execution_count": 23,
     "metadata": {},
     "output_type": "execute_result"
    }
   ],
   "source": [
    "\n",
    "\n",
    "revenue_as_list = df[\"REVENUE (2016,2017,2018,2019,2020,2021,2022,2023)\"].apply(lambda cell: convert_to_list_of_numbers(cell))\n",
    "\n",
    "def calculate_avg_revenue(cell):\n",
    "    revenue_count = 0.0\n",
    "    revenue_sum = 0.0\n",
    "    for index, revenue in enumerate(cell):\n",
    "        if revenue > 0:\n",
    "            revenue_count += 1\n",
    "            revenue_sum += revenue\n",
    "    if revenue_count > 0:        \n",
    "        return revenue_sum / revenue_count\n",
    "    return 0    \n",
    "\n",
    "\n",
    "df[\"AVG REVENUE\"] = revenue_as_list.apply(lambda cell: calculate_avg_revenue(cell))\n",
    "\n",
    "\n",
    "def calculate_avg_growth(cell):\n",
    "    count = 0.0\n",
    "    last_index = -1.0\n",
    "    first_amount = 0.0\n",
    "    last_amount = 0.0\n",
    "    for index, amount in enumerate(cell):\n",
    "        if amount > 0:\n",
    "            if first_amount == 0:\n",
    "                first_amount = amount\n",
    "            if last_index > -1:\n",
    "               count += index - last_index\n",
    "            last_index = index    \n",
    "            last_amount = amount        \n",
    "    if count > 1:\n",
    "        return (last_amount/first_amount)**(1/count)\n",
    "    return 0\n",
    "\n",
    "\n",
    "\n",
    "df[\"AVG REVENUE GROWTH\"] = revenue_as_list.apply(lambda cell: calculate_avg_growth(cell))\n",
    "\n",
    "employees_as_list = df[\"EMPLOYEES (2016,2017,2018,2019,2020,2021,2022)\"].apply(lambda cell: convert_to_list_of_numbers(cell))\n",
    "df[\"AVG EMPLOYEE GROWTH\"] = employees_as_list.apply(lambda cell: calculate_avg_growth(cell))\n",
    "\n",
    "df[\"AVG EMPLOYEE GROWTH\"]\n"
   ]
  },
  {
   "cell_type": "markdown",
   "metadata": {},
   "source": [
    "Create Valuation_to_funding_ratio column"
   ]
  },
  {
   "cell_type": "code",
   "execution_count": 24,
   "metadata": {},
   "outputs": [
    {
     "data": {
      "text/plain": [
       "0       0.000000\n",
       "1       3.279013\n",
       "2       4.889778\n",
       "3       0.000000\n",
       "4       0.000000\n",
       "          ...   \n",
       "8889    0.000000\n",
       "8890    0.000000\n",
       "8891    0.000000\n",
       "8892    0.000000\n",
       "8893    0.000000\n",
       "Name: VALUATION TO FUNDING RATIO, Length: 8894, dtype: float64"
      ]
     },
     "execution_count": 24,
     "metadata": {},
     "output_type": "execute_result"
    }
   ],
   "source": [
    "valuation_to_funding_ratio = []\n",
    "\n",
    "for index,valuation in enumerate(df['VALUATION AVG']):\n",
    "    if valuation > 0:\n",
    "        if df.loc[index, \"FUNDING UP UNTIL VALUATION DATE\"] > 0:\n",
    "            valuation_to_funding_ratio.append(valuation / df.loc[index, \"FUNDING UP UNTIL VALUATION DATE\"])\n",
    "        else:\n",
    "            valuation_to_funding_ratio.append(valuation)\n",
    "    else:\n",
    "        valuation_to_funding_ratio.append(0)\n",
    "\n",
    "df[\"VALUATION TO FUNDING RATIO\"] = valuation_to_funding_ratio\n",
    "\n",
    "\n",
    "df['VALUATION TO FUNDING RATIO']\n"
   ]
  },
  {
   "cell_type": "markdown",
   "metadata": {},
   "source": [
    "### 1.6 Female in Founder Team"
   ]
  },
  {
   "cell_type": "code",
   "execution_count": 25,
   "metadata": {},
   "outputs": [
    {
     "data": {
      "text/plain": [
       "0       False\n",
       "1        True\n",
       "2        True\n",
       "3       False\n",
       "4       False\n",
       "        ...  \n",
       "8889    False\n",
       "8890    False\n",
       "8891    False\n",
       "8892    False\n",
       "8893    False\n",
       "Name: MALE FOUNDER, Length: 8894, dtype: bool"
      ]
     },
     "execution_count": 25,
     "metadata": {},
     "output_type": "execute_result"
    }
   ],
   "source": [
    "\n",
    "\n",
    "# Add one-hot columns if female, male founder in team. Add unknown and consider later if team is mixed \n",
    "# (as criteria for success maybe)\n",
    "\n",
    "#df['FEMALE FOUNDER', 'MALE FOUNDER', 'UNKNOWN FOUNDER'] = False\n",
    "df.loc[:,'FEMALE FOUNDER'] = False\n",
    "df.loc[:,'MALE FOUNDER'] = False\n",
    "df.loc[:, 'UNKNOWN FOUNDER'] = False\n",
    "\n",
    "\n",
    "df.loc[df['FOUNDERS GENDERS'].str.contains('female' ,na= False), 'FEMALE FOUNDER'] = True\n",
    "df.loc[df['FOUNDERS GENDERS'].str.contains('(?<!fe)male', na=False, regex=True), 'MALE FOUNDER'] = True\n",
    "df.loc[df['FOUNDERS GENDERS'].str.contains('n/a', na = True), 'UNKNOWN FOUNDER'] = True\n",
    "\n",
    "#df[['FOUNDERS GENDERS', 'FEMALE FOUNDER', 'MALE FOUNDER', 'UNKNOWN FOUNDER']]\n",
    "\n",
    "df[\"MALE FOUNDER\"]"
   ]
  },
  {
   "cell_type": "markdown",
   "metadata": {},
   "source": [
    "### 1.7 Founder is serial"
   ]
  },
  {
   "cell_type": "code",
   "execution_count": 26,
   "metadata": {},
   "outputs": [
    {
     "data": {
      "text/plain": [
       "0         0.5\n",
       "1       False\n",
       "2       False\n",
       "3       False\n",
       "4         0.5\n",
       "        ...  \n",
       "8889      0.5\n",
       "8890      0.5\n",
       "8891      0.5\n",
       "8892      0.5\n",
       "8893      0.5\n",
       "Name: FOUNDER SERIAL, Length: 8894, dtype: object"
      ]
     },
     "execution_count": 26,
     "metadata": {},
     "output_type": "execute_result"
    }
   ],
   "source": [
    "df.loc[:,'FOUNDER SERIAL'] = False\n",
    "df.loc[df['FOUNDERS IS SERIAL'].isnull(), 'FOUNDER SERIAL'] = 0.5\n",
    "#df.loc[df['FOUNDERS IS SERIAL'].isnull(), 'FOUNDER SERIAL'] = 'Unknown'\n",
    "df.loc[df['FOUNDERS IS SERIAL'].str.contains('yes' ,na= False), 'FOUNDER SERIAL'] = True\n",
    "\n",
    "df['FOUNDER SERIAL']"
   ]
  },
  {
   "cell_type": "markdown",
   "metadata": {},
   "source": [
    "### 1.8 MIXED TEAM"
   ]
  },
  {
   "cell_type": "code",
   "execution_count": 27,
   "metadata": {},
   "outputs": [],
   "source": [
    "df['MIXED TEAM'] = 'Unknown'\n",
    "\n",
    "#indexMix = df[(df['FEMALE FOUNDER'] > 0) & (df['MALE FOUNDER'] > 0)].index\n",
    "\n",
    "# A mixed team has female founder and male founder \n",
    "\n",
    "df.loc[(df['FEMALE FOUNDER'] ==1 ) & (df['MALE FOUNDER'] ==1 ), 'MIXED TEAM'] = True\n",
    "df.loc[((df['FEMALE FOUNDER'] ==1 ) ^ (df['MALE FOUNDER'] ==1) & (df['UNKNOWN FOUNDER'] ==0) ), 'MIXED TEAM'] = False\n"
   ]
  },
  {
   "cell_type": "markdown",
   "id": "e592aa8e",
   "metadata": {},
   "source": [
    "###  Create CITY COLUMNS"
   ]
  },
  {
   "cell_type": "code",
   "execution_count": 28,
   "id": "d7c3410f",
   "metadata": {},
   "outputs": [
    {
     "name": "stderr",
     "output_type": "stream",
     "text": [
      "/home/markus/.cache/pypoetry/virtualenvs/jupyter-pandas-cmPRGyoq-py3.9/lib/python3.9/site-packages/pandas/core/indexing.py:1667: PerformanceWarning: DataFrame is highly fragmented.  This is usually the result of calling `frame.insert` many times, which has poor performance.  Consider joining all columns at once using pd.concat(axis=1) instead.  To get a de-fragmented frame, use `newframe = frame.copy()`\n",
      "  self.obj[key] = value\n"
     ]
    }
   ],
   "source": [
    "cities = set([])\n",
    "df[\"HQ CITY\"]= df[\"HQ CITY\"].apply(lambda city: city.upper() if isinstance(city,str) else city)\n",
    "for city in df[\"HQ CITY\"]:\n",
    "   cities.add(city)\n",
    "\n",
    "\n",
    "for index,city in enumerate(cities):\n",
    "    df.loc[:,f'HQ {city}'] = False\n",
    "\n",
    "\n",
    "for index,city in enumerate(df[\"HQ CITY\"]):\n",
    "    if isinstance(city, str):\n",
    "        df.loc[index, f'HQ {city}'] = True\n",
    "\n",
    "\n"
   ]
  },
  {
   "cell_type": "markdown",
   "metadata": {},
   "source": [
    "###  Create Revenue model COLUMNS"
   ]
  },
  {
   "cell_type": "code",
   "execution_count": 29,
   "id": "32dbce18",
   "metadata": {},
   "outputs": [],
   "source": [
    "revenue_models = set([])\n",
    "\n",
    "for revenue_model in df[\"REVENUE MODEL\"]:\n",
    "    if isinstance(revenue_model,str):\n",
    "        for model in revenue_model.split(\";\"):\n",
    "            revenue_models.add(model.upper())\n",
    "\n",
    "\n",
    "for index, revenue_model in enumerate(revenue_models):\n",
    "    df.loc[:, f'REVENUE MODEL {revenue_model}'] = False\n",
    "\n",
    "\n",
    "for index, revenue_model in enumerate(df[\"REVENUE MODEL\"]):\n",
    "    if isinstance(revenue_model, str):\n",
    "        for model in revenue_model.split(\";\"):\n",
    "            df.loc[index, f'REVENUE MODEL {model.upper()}'] = True\n",
    "\n"
   ]
  },
  {
   "cell_type": "markdown",
   "id": "1be49d29",
   "metadata": {},
   "source": [
    "### Select Columns relevant for training and export to CSV\n",
    "\n",
    "Boolean Columns with less than 5% True rate are being dropped"
   ]
  },
  {
   "cell_type": "code",
   "execution_count": 30,
   "id": "05bece7a",
   "metadata": {},
   "outputs": [
    {
     "name": "stderr",
     "output_type": "stream",
     "text": [
      "/tmp/ipykernel_936525/4168001108.py:10: SettingWithCopyWarning: \n",
      "A value is trying to be set on a copy of a slice from a DataFrame.\n",
      "Try using .loc[row_indexer,col_indexer] = value instead\n",
      "\n",
      "See the caveats in the documentation: https://pandas.pydata.org/pandas-docs/stable/user_guide/indexing.html#returning-a-view-versus-a-copy\n",
      "  df_target[column] = df_target[column].astype(int)\n",
      "/home/markus/.cache/pypoetry/virtualenvs/jupyter-pandas-cmPRGyoq-py3.9/lib/python3.9/site-packages/pandas/core/frame.py:4906: SettingWithCopyWarning: \n",
      "A value is trying to be set on a copy of a slice from a DataFrame\n",
      "\n",
      "See the caveats in the documentation: https://pandas.pydata.org/pandas-docs/stable/user_guide/indexing.html#returning-a-view-versus-a-copy\n",
      "  return super().drop(\n"
     ]
    }
   ],
   "source": [
    "df_target = df[['INDEX','TOTAL FUNDING USD', 'FUNDING FROM EARLY STAGES', 'FUNDING FROM EARLY STAGES > 2M', 'FUNDING UP UNTIL VALUATION DATE', 'AVG REVENUE', 'AVG REVENUE GROWTH', 'AVG EMPLOYEE GROWTH', 'VALUATION TO FUNDING RATIO']\n",
    "   + [f'IS_{industry}_INDUSTRY'for industry in industries.keys()]\n",
    "   + [f'REVENUE MODEL {model}'for model in revenue_models]\n",
    "   + [f'HQ {city}'for city in cities]]\n",
    "\n",
    "\n",
    "\n",
    "for column in df_target:\n",
    "   if df_target[column].dtype == 'bool':\n",
    "       df_target[column] = df_target[column].astype(int)\n",
    "       if df_target[column].sum() < 0.05*df_target.shape[0]:\n",
    "           df_target.drop([column], axis=1,inplace=True)\n",
    "\n",
    "df_target.to_csv(\"data_for_training.csv\")"
   ]
  },
  {
   "cell_type": "code",
   "execution_count": null,
   "metadata": {},
   "outputs": [],
   "source": []
  }
 ],
 "metadata": {
  "kernelspec": {
   "display_name": "Python 3",
   "language": "python",
   "name": "python3"
  },
  "language_info": {
   "codemirror_mode": {
    "name": "ipython",
    "version": 3
   },
   "file_extension": ".py",
   "mimetype": "text/x-python",
   "name": "python",
   "nbconvert_exporter": "python",
   "pygments_lexer": "ipython3",
   "version": "3.9.7"
  }
 },
 "nbformat": 4,
 "nbformat_minor": 5
}
