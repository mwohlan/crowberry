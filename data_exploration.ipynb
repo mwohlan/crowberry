{
 "cells": [
  {
   "cell_type": "markdown",
   "metadata": {},
   "source": [
    "# Dataroom data observation\n",
    "We use a filtered Dataset which is reduced to 1400 (from 8900) rows with data quality that is acceptable in order to compare start ups among each other. The knowledge gained from this observation can possibly be used when making  investment decisions on new startup prospects.\n",
    "\n",
    "The original dataset was filtered using the following criteria:\n",
    "``` javascript\n",
    "df['FUNDING UP UNTIL VALUATION DATE'] > 0) & (df[\"INDUSTRIES\"].notnull())\n",
    "    & (df[\"FUNDING FROM EARLY STAGES\"] > 0) & (df[\"VALUATION AVG\"].notnull()) & (df[\"REVENUE MODEL\"].notnull()) & (df['HQ CITY'].notnull())]\n",
    "```\n"
   ]
  },
  {
   "cell_type": "markdown",
   "metadata": {},
   "source": [
    "## Splitting the data\n",
    "\n",
    "The remaining start ups are split into two catgegories, which will be compared against each other.\n",
    "Successful start ups are defined by a valuation to funding ratio which is greater than 30.\n",
    "normal count: 1110\n",
    "successful count: 297"
   ]
  },
  {
   "cell_type": "code",
   "execution_count": 3,
   "metadata": {},
   "outputs": [],
   "source": [
    "import pandas as pd\n",
    "import numpy as np\n",
    "import matplotlib.pyplot as plt\n",
    "\n",
    "\n",
    "\n",
    "df = pd.read_csv(\"filtered.csv\")\n",
    "\n",
    "for column in df:\n",
    "    if df[column].dtype == \"bool\":\n",
    "        df[column] = df[column].astype(int)\n",
    "\n",
    "#n= 297\n",
    "successful = df[(df[\"VALUATION TO FUNDING RATIO\"] > 30)\n",
    "                 & (df[\"FUNDING UP UNTIL VALUATION DATE\"] > 0)]\n",
    "  \n",
    "#n = 1110\n",
    "normal = df[df[\"VALUATION TO FUNDING RATIO\"] <= 30]\n",
    "\n",
    "\n"
   ]
  },
  {
   "cell_type": "markdown",
   "metadata": {},
   "source": [
    "## 1. Revenue Models\n",
    "Lets see if the Revenue Models are differently distributed among the more successful Startups\n"
   ]
  },
  {
   "cell_type": "markdown",
   "metadata": {},
   "source": [
    "Manufactoring rate increases from 30 to 40% for more successful Start Ups"
   ]
  },
  {
   "cell_type": "code",
   "execution_count": 4,
   "metadata": {},
   "outputs": [],
   "source": [
    "successful_manufacturing = successful[\"REVENUE MODEL MANUFACTURING\"].value_counts(\n",
    ")[1] / successful[\"REVENUE MODEL MANUFACTURING\"].value_counts(\n",
    ").sum()\n",
    "\n",
    "\n",
    "\n"
   ]
  },
  {
   "cell_type": "code",
   "execution_count": 5,
   "metadata": {},
   "outputs": [],
   "source": [
    "normal_manufacturing = normal[\"REVENUE MODEL MANUFACTURING\"].value_counts(\n",
    ")[1] / normal[\"REVENUE MODEL MANUFACTURING\"].value_counts(\n",
    ").sum()\n"
   ]
  },
  {
   "cell_type": "markdown",
   "metadata": {},
   "source": [
    "8% Less SAAS for more successful Start Ups"
   ]
  },
  {
   "cell_type": "code",
   "execution_count": 6,
   "metadata": {},
   "outputs": [],
   "source": [
    "successful_saas= successful[\"REVENUE MODEL SAAS\"].value_counts(\n",
    ")[1] / successful[\"REVENUE MODEL SAAS\"].value_counts(\n",
    ").sum()\n"
   ]
  },
  {
   "cell_type": "code",
   "execution_count": 7,
   "metadata": {},
   "outputs": [],
   "source": [
    "normal_saas= normal[\"REVENUE MODEL SAAS\"].value_counts(\n",
    ")[1] / normal[\"REVENUE MODEL SAAS\"].value_counts(\n",
    ").sum()\n",
    "\n"
   ]
  },
  {
   "cell_type": "markdown",
   "metadata": {},
   "source": [
    "7% less Ecommerce for more successful Start Ups"
   ]
  },
  {
   "cell_type": "code",
   "execution_count": 8,
   "metadata": {},
   "outputs": [],
   "source": [
    "successful_ecommerce =successful[\"REVENUE MODEL MARKETPLACE & ECOMMERCE\"].value_counts(\n",
    ")[1] / successful[\"REVENUE MODEL MARKETPLACE & ECOMMERCE\"].value_counts(\n",
    ").sum()\n"
   ]
  },
  {
   "cell_type": "code",
   "execution_count": 9,
   "metadata": {},
   "outputs": [],
   "source": [
    "normal_ecommerce=normal[\"REVENUE MODEL MARKETPLACE & ECOMMERCE\"].value_counts(\n",
    ")[1] / normal[\"REVENUE MODEL MARKETPLACE & ECOMMERCE\"].value_counts(\n",
    ").sum()\n"
   ]
  },
  {
   "cell_type": "code",
   "execution_count": 10,
   "metadata": {},
   "outputs": [],
   "source": [
    "revenue_model_data = [[\"MANUFACTORING\", \"Normal Startups\", normal_manufacturing], \n",
    "                      [\"MANUFACTORING\", \"Successful Startups\", successful_manufacturing],\n",
    "                      [\"SAAS\", \"Normal Startups\", normal_saas],\n",
    "                      [\"SAAS\", \"Successful Startups\", successful_saas],\n",
    "                      [\"ECOMMERCE\", \"Normal Startups\", normal_ecommerce],\n",
    "                      [\"ECOMMERCE\", \"Successful Startups\", successful_ecommerce], ]\n",
    "\n",
    "\n",
    "revenue_model_data=pd.DataFrame(revenue_model_data, columns=[\n",
    "                               'REVENUE TYPE', 'CATEGORY', 'Percentage'])\n",
    "\n"
   ]
  },
  {
   "cell_type": "markdown",
   "metadata": {},
   "source": [
    "## Revenue Model Plot\n",
    "\n",
    "Since there are differences among the revenue models with a tendency towards more manufacturing among successful start ups, lets create a plot showing this tendency"
   ]
  },
  {
   "cell_type": "code",
   "execution_count": 11,
   "metadata": {},
   "outputs": [
    {
     "data": {
      "image/png": "[encoded data removed]",
      "text/plain": [
       "<Figure size 580.35x432 with 1 Axes>"
      ]
     },
     "metadata": {},
     "output_type": "display_data"
    }
   ],
   "source": [
    "\n",
    "\n",
    "import seaborn as sns\n",
    "sns.set_theme(style=\"whitegrid\")\n",
    "\n",
    "\n",
    "g = sns.catplot(\n",
    "    data=revenue_model_data, kind=\"bar\",\n",
    "    x=\"REVENUE TYPE\", y=\"Percentage\", hue=\"CATEGORY\",\n",
    "    palette=\"dark\", alpha=.6, height=6\n",
    ")\n",
    "\n",
    "g.set_axis_labels(\"Revenue Model\", \"Portion\")\n",
    "g.legend.set_title(\"\")\n",
    "# Draw a nested barplot by species and sex\n",
    "\n"
   ]
  },
  {
   "cell_type": "markdown",
   "metadata": {},
   "source": [
    "## 2. Big Cities\n",
    "\n",
    "Portion of the big cities Stockholm, Copenhagen, Helsinki, Oslo and Gothenburg doesn't change for more successful start ups"
   ]
  },
  {
   "cell_type": "code",
   "execution_count": 12,
   "metadata": {},
   "outputs": [
    {
     "data": {
      "text/plain": [
       "0.5589225589225589"
      ]
     },
     "execution_count": 12,
     "metadata": {},
     "output_type": "execute_result"
    }
   ],
   "source": [
    "successful[\"HQ CITY\"].value_counts()[\n",
    "    :4].sum()/successful[[\"HQ CITY\"]].size\n",
    "\n"
   ]
  },
  {
   "cell_type": "code",
   "execution_count": 13,
   "metadata": {},
   "outputs": [
    {
     "data": {
      "text/plain": [
       "0.5567567567567567"
      ]
     },
     "execution_count": 13,
     "metadata": {},
     "output_type": "execute_result"
    }
   ],
   "source": [
    "normal[\"HQ CITY\"].value_counts()[\n",
    "    :4].sum()/normal[[\"HQ CITY\"]].size\n",
    "\n",
    "\n"
   ]
  },
  {
   "cell_type": "markdown",
   "metadata": {},
   "source": [
    "## 3. Industries"
   ]
  },
  {
   "cell_type": "code",
   "execution_count": 14,
   "metadata": {},
   "outputs": [
    {
     "data": {
      "image/png": "[encoded data removed]",
      "text/plain": [
       "<Figure size 868.35x720 with 1 Axes>"
      ]
     },
     "metadata": {},
     "output_type": "display_data"
    }
   ],
   "source": [
    "data_indutries = []\n",
    "\n",
    "for column in df:\n",
    "    if column.startswith(\"IS_\"):\n",
    "        portion_success = successful[column].mean()\n",
    "        portion_normal = normal[column].mean()\n",
    "        count_success = successful[column].sum()\n",
    "        count_normal = normal[column].sum()\n",
    "        data_indutries.append([column.split(\"_\")[1],\"Normal Startups\",portion_normal,count_normal])\n",
    "        data_indutries.append([column.split(\"_\")[1], \"Successful Startups\", portion_success, count_success])\n",
    "      \n",
    "\n",
    "sns.set_theme(style=\"whitegrid\")\n",
    "\n",
    "data_indutries = pd.DataFrame(data_indutries, columns=[\n",
    "    'Industry', 'Category', 'Portion', 'Count'])\n",
    "data_indutries = data_indutries[data_indutries[\"Industry\"].isin([\n",
    "    \"MARKETING\", \"HEALTH\", \"ENTERPRISE SOFTWARE\", \"ROBOTICS\"])]\n",
    "g = sns.catplot(\n",
    "    data=data_indutries[:10], kind=\"bar\",\n",
    "    x=\"Industry\", y=\"Portion\", hue=\"Category\",\n",
    "    palette=\"dark\", alpha=.6, height=10\n",
    ")\n",
    "\n",
    "g.set_axis_labels(\"Industry\", \"Portion\")\n",
    "g.legend.set_title(\"\")\n"
   ]
  },
  {
   "cell_type": "code",
   "execution_count": 15,
   "metadata": {},
   "outputs": [
    {
     "data": {
      "text/plain": [
       "0.13603603603603603"
      ]
     },
     "execution_count": 15,
     "metadata": {},
     "output_type": "execute_result"
    }
   ],
   "source": [
    "normal[\"IS_HEALTH_INDUSTRY\"].value_counts()[1]/normal[\"IS_HEALTH_INDUSTRY\"].value_counts().sum()\n"
   ]
  }
 ],
 "metadata": {
  "interpreter": {
   "hash": "99186a0bece62e70d2067b69bb0e6d5665a35670e7aceacfda778335f90225f9"
  },
  "kernelspec": {
   "display_name": "Python 3.9.7 ('jupyter-pandas-cmPRGyoq-py3.9')",
   "language": "python",
   "name": "python3"
  },
  "language_info": {
   "codemirror_mode": {
    "name": "ipython",
    "version": 3
   },
   "file_extension": ".py",
   "mimetype": "text/x-python",
   "name": "python",
   "nbconvert_exporter": "python",
   "pygments_lexer": "ipython3",
   "version": "3.9.7"
  },
  "orig_nbformat": 4
 },
 "nbformat": 4,
 "nbformat_minor": 2
}
